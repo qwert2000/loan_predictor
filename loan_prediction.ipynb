{
 "cells": [
  {
   "cell_type": "code",
   "execution_count": 2,
   "metadata": {},
   "outputs": [
    {
     "name": "stdout",
     "output_type": "stream",
     "text": [
      "(14, 1)\n",
      "Cost at initial theta (zeros): 0.6931471805599918\n",
      "Train Accuracy: 70.6 %\n",
      "Cost at optimized theta (zeros): 0.6058027547935126\n"
     ]
    },
    {
     "data": {
      "text/plain": [
       "Text(0.5, 1.0, 'Error vs. Training Epoch')"
      ]
     },
     "execution_count": 2,
     "metadata": {},
     "output_type": "execute_result"
    },
    {
     "data": {
      "image/png": "[encoded data removed]",
      "text/plain": [
       "<Figure size 864x576 with 1 Axes>"
      ]
     },
     "metadata": {
      "needs_background": "light"
     },
     "output_type": "display_data"
    }
   ],
   "source": [
    "import numpy as np\n",
    "import matplotlib.pyplot as plt\n",
    "import pandas as pd\n",
    "from mpl_toolkits.mplot3d import Axes3D\n",
    "df=pd.read_csv(\"datasets_608073_1089480_Bank_Personal_Loan_Modelling.csv\", header=None)\n",
    "df.head()\n",
    "df.describe()\n",
    "X=df.iloc[:,:-1].values\n",
    "y=df.iloc[:,-1].values\n",
    "X=(X-(X.mean()))/(X.std())\n",
    "def sigmoid(z):\n",
    "    return 1/ (1 + np.exp(-z))\n",
    "\n",
    "def costFunctionReg(theta,X,y,Lambda):\n",
    "  m = len(y)\n",
    "  y = y[:,np.newaxis]\n",
    "  hypothesis = sigmoid(np.dot(X,theta))\n",
    "  error = (-y * np.log(hypothesis)) - ((1-y)*np.log(1-hypothesis))\n",
    "  cost = 1/m * sum(error)\n",
    "  regCost = cost + Lambda/(2*m) * sum(theta**2)\n",
    "  grad_0= 1/m * np.dot(X.transpose(),(hypothesis - y))[0]\n",
    "  grad_1 = 1/m * np.dot(X.transpose(),(hypothesis - y))[1:] + (Lambda/m)* theta[1:]\n",
    "  grad= np.vstack((grad_0[:,np.newaxis],grad_1)) #newaxis = .reshape() , vstack = adding new row\n",
    "  return regCost[0], grad\n",
    "\n",
    "out = np.ones(len(X)).reshape(len(X),1)\n",
    "X=np.hstack((out,X))\n",
    "a = int(X.shape[0]*0.8)\n",
    "Lambda = 0.5\n",
    "initial_theta = np.zeros((X.shape[1], 1))\n",
    "print(initial_theta.shape)\n",
    "cost, grad=costFunctionReg(initial_theta, X, y, Lambda)\n",
    "print(\"Cost at initial theta (zeros):\",cost)\n",
    "\n",
    "def gradientDescent(X,y,theta,alpha,num_iters,Lambda):\n",
    "    m=len(y)\n",
    "    J_history =[]\n",
    "    for i in range(num_iters):\n",
    "        cost, grad = costFunctionReg(theta,X,y,Lambda)\n",
    "        theta = theta - (alpha * grad)\n",
    "        J_history.append(cost)\n",
    "    return theta , J_history\n",
    "\n",
    "theta , J_history = gradientDescent(X,y,initial_theta,0.001,1500,0.5)\n",
    "\n",
    "def classifierPredict(theta,X):\n",
    "    predictions = X.dot(theta)\n",
    "    return predictions > 0\n",
    "p=classifierPredict(theta,X)\n",
    "print(\"Train Accuracy:\", (sum(p==y[:,np.newaxis])/len(y) *100)[0],\"%\")\n",
    "cost1,grad1 = costFunctionReg(theta,X,y,Lambda)\n",
    "print(\"Cost at optimized theta (zeros):\",cost1)\n",
    "fig, ax = plt.subplots(figsize=(12,8))\n",
    "ax.plot(np.arange(1500),J_history, 'r')\n",
    "ax.set_xlabel('Iterations')\n",
    "ax.set_ylabel('Cost')\n",
    "ax.set_title('Error vs. Training Epoch')"
   ]
  },
  {
   "cell_type": "code",
   "execution_count": null,
   "metadata": {},
   "outputs": [],
   "source": []
  }
 ],
 "metadata": {
  "kernelspec": {
   "display_name": "Python 3",
   "language": "python",
   "name": "python3"
  },
  "language_info": {
   "codemirror_mode": {
    "name": "ipython",
    "version": 3
   },
   "file_extension": ".py",
   "mimetype": "text/x-python",
   "name": "python",
   "nbconvert_exporter": "python",
   "pygments_lexer": "ipython3",
   "version": "3.7.4"
  }
 },
 "nbformat": 4,
 "nbformat_minor": 2
}
